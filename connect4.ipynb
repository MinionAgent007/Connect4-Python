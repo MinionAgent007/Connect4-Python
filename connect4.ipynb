{
 "cells": [
  {
   "cell_type": "code",
   "execution_count": 10,
   "metadata": {},
   "outputs": [],
   "source": [
    "# creates a board with 7 columns and 6 rows\n",
    "board = [[\"E\" for i in range(7)] for k in range(6)]\n",
    "#number of tokens in a column\n",
    "columnStat = [0 for i in range(6)]"
   ]
  },
  {
   "cell_type": "code",
   "execution_count": 11,
   "metadata": {},
   "outputs": [],
   "source": [
    "def printBoard():   \n",
    "    for i in range(7):\n",
    "        print(i+1, end = \" \")\n",
    "    print()\n",
    "    for j in board:\n",
    "        for i in j:\n",
    "            print(i, end = \" \")\n",
    "        print()\n",
    "\n"
   ]
  },
  {
   "cell_type": "code",
   "execution_count": 9,
   "metadata": {},
   "outputs": [
    {
     "name": "stdout",
     "output_type": "stream",
     "text": [
      "True\n",
      "False\n"
     ]
    }
   ],
   "source": [
    "pturn = True\n",
    "\n",
    "def changeTurn():\n",
    "    global pturn\n",
    "    if pturn:\n",
    "        pturn = not pturn\n",
    "print(pturn)\n",
    "changeTurn()\n",
    "print(pturn)"
   ]
  }
 ],
 "metadata": {
  "interpreter": {
   "hash": "30d14506118295d322cd9c563a8dbdb34c62f9d803f2c23601ba2184503e60f3"
  },
  "kernelspec": {
   "display_name": "Python 3.9.7 ('base')",
   "language": "python",
   "name": "python3"
  },
  "language_info": {
   "codemirror_mode": {
    "name": "ipython",
    "version": 3
   },
   "file_extension": ".py",
   "mimetype": "text/x-python",
   "name": "python",
   "nbconvert_exporter": "python",
   "pygments_lexer": "ipython3",
   "version": "3.9.7"
  },
  "orig_nbformat": 4
 },
 "nbformat": 4,
 "nbformat_minor": 2
}
